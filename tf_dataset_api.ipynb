{
 "cells": [
  {
   "cell_type": "markdown",
   "metadata": {},
   "source": [
    "## The following notebook is to demonstrate the use of Tensorflow Dataset api\n",
    "Data is usually fed into tensorflow session using feed dict. The batches and shuffle need to manually created before feeding.The dataset api provides a simple but intuitive data pipeline to feed the data.  \n",
    "The api also provides various other functions to do transformation and can be built alongside python data pipeline to work."
   ]
  },
  {
   "cell_type": "code",
   "execution_count": 1,
   "metadata": {},
   "outputs": [],
   "source": [
    "# Import the libraries\n",
    "import tensorflow as tf\n",
    "import numpy as np\n",
    "from sklearn.datasets import make_moons\n",
    "from sklearn.datasets import load_digits\n",
    "from sklearn.model_selection import train_test_split\n",
    "import matplotlib.pyplot as plt\n",
    "%matplotlib inline"
   ]
  },
  {
   "cell_type": "code",
   "execution_count": 2,
   "metadata": {},
   "outputs": [
    {
     "name": "stdout",
     "output_type": "stream",
     "text": [
      "(1257, 64) (540, 64)\n"
     ]
    }
   ],
   "source": [
    "# For the demonstration, we are are going to use digits data in sklearn\n",
    "x,y=load_digits(return_X_y=True)\n",
    "x_train,x_test,y_train,y_test=train_test_split(x,y,test_size=0.3,random_state=101)\n",
    "print(x_train.shape,x_test.shape)"
   ]
  },
  {
   "cell_type": "code",
   "execution_count": 3,
   "metadata": {},
   "outputs": [
    {
     "data": {
      "image/png": "[encoded data removed]",
      "text/plain": [
       "<Figure size 720x324 with 3 Axes>"
      ]
     },
     "metadata": {
      "needs_background": "light"
     },
     "output_type": "display_data"
    }
   ],
   "source": [
    "def plot_data(x_train,y_train,prediction=None):\n",
    "    imgs=np.random.choice(x_train.shape[0],3)\n",
    "    fig,ax=plt.subplots(nrows=1,ncols=3,figsize=(10,4.5))\n",
    "    for i,img in enumerate(imgs):\n",
    "        ax[i].imshow(x_train[img].reshape(-1,8))\n",
    "        if prediction is not None:\n",
    "            ax[i].set_title(\"Actual-{}  & Prediction- {}\".format(y_train[img],prediction[img]))\n",
    "        else:\n",
    "            ax[i].set_title(\"Actual-{}\".format(y_train[img]))\n",
    "        ax[i].set_axis_off()\n",
    "    plt.show()\n",
    "plot_data(x_train,y_train)"
   ]
  },
  {
   "cell_type": "markdown",
   "metadata": {},
   "source": [
    "Create a tensorflow graph. We'll use fully connected layers."
   ]
  },
  {
   "cell_type": "code",
   "execution_count": 4,
   "metadata": {},
   "outputs": [],
   "source": [
    "tf.reset_default_graph()"
   ]
  },
  {
   "cell_type": "code",
   "execution_count": 5,
   "metadata": {},
   "outputs": [],
   "source": [
    "def dense_layer(inpt, units,layer_name):\n",
    "    with tf.variable_scope(layer_name):\n",
    "        weights=tf.get_variable(shape=[int(inpt.get_shape()[1]),units],name='weights',dtype=tf.float64)\n",
    "        biases=tf.get_variable(shape=[units],name='biases',initializer=tf.zeros_initializer(),dtype=tf.float64)\n",
    "        return tf.add(tf.matmul(inpt,weights),biases)"
   ]
  },
  {
   "cell_type": "code",
   "execution_count": 6,
   "metadata": {},
   "outputs": [],
   "source": [
    "def nn_model(in_data):\n",
    "    fc1=dense_layer(in_data,64,layer_name='fc1')\n",
    "    fc1_act=tf.nn.relu(fc1)\n",
    "    fc2=dense_layer(fc1_act,32,layer_name='fc2')\n",
    "    fc2_act=tf.nn.relu(fc2)\n",
    "    fc3=dense_layer(fc2_act,10,layer_name='fc3')\n",
    "    output=tf.nn.softmax(fc3)\n",
    "    return output"
   ]
  },
  {
   "cell_type": "markdown",
   "metadata": {},
   "source": [
    "Create placeholders for train and test data and batch size."
   ]
  },
  {
   "cell_type": "code",
   "execution_count": 7,
   "metadata": {},
   "outputs": [],
   "source": [
    "x_pl,y_pl=tf.placeholder(dtype=tf.float64,shape=[None,64]),tf.placeholder(dtype=tf.int64,shape=[None])\n",
    "batch_size=tf.placeholder(dtype=tf.int64)"
   ]
  },
  {
   "cell_type": "code",
   "execution_count": 8,
   "metadata": {},
   "outputs": [],
   "source": [
    "# Here we from_tensor_slices function from dataset api. This is used with numpy arrays to create slices of data.\n",
    "# The alternative includes from_generator which can be with custom python generator func\n",
    "dx=tf.data.Dataset.from_tensor_slices(x_pl)\n",
    "dy=tf.data.Dataset.from_tensor_slices(y_pl)\n",
    "# Onehot encoding for labels\n",
    "dy_onehot=dy.map(lambda z:tf.one_hot(z,depth=10))\n",
    "# Combine the features and target labels together and chain shuffle, repeat and batch_size to it.\n",
    "# repeat takes an argument which is for how many times, the data should be repeated. Here its inifinte.\n",
    "dataset=tf.data.Dataset.zip((dx,dy_onehot)).repeat().batch(batch_size)"
   ]
  },
  {
   "cell_type": "code",
   "execution_count": 9,
   "metadata": {},
   "outputs": [],
   "source": [
    "# Make an initializable iterator. At run time, it can be either initialized with train data or test data\n",
    "iterator=dataset.make_initializable_iterator()\n",
    "next_element=iterator.get_next()"
   ]
  },
  {
   "cell_type": "markdown",
   "metadata": {},
   "source": [
    "Next element is like a tuple as we have zipped the features and labels. next_element[0] can be visualized as x_train[batch_size,64]. During session run, tensorflow will keep iterating over different batches"
   ]
  },
  {
   "cell_type": "code",
   "execution_count": 10,
   "metadata": {},
   "outputs": [],
   "source": [
    "# Defining the model\n",
    "logits=nn_model(next_element[0])"
   ]
  },
  {
   "cell_type": "code",
   "execution_count": 11,
   "metadata": {},
   "outputs": [],
   "source": [
    "# Defining the loss\n",
    "loss=tf.reduce_sum(tf.nn.softmax_cross_entropy_with_logits_v2(labels=next_element[1],logits=logits))"
   ]
  },
  {
   "cell_type": "code",
   "execution_count": 12,
   "metadata": {},
   "outputs": [],
   "source": [
    "# Defining the optimizer\n",
    "optimizer=tf.train.AdamOptimizer().minimize(loss)"
   ]
  },
  {
   "cell_type": "code",
   "execution_count": 13,
   "metadata": {},
   "outputs": [],
   "source": [
    "# Define the accuracy\n",
    "accuracy=tf.reduce_mean(tf.cast(tf.equal(tf.argmax(logits,axis=1),tf.argmax(next_element[1],axis=1)),tf.float64))"
   ]
  },
  {
   "cell_type": "code",
   "execution_count": 17,
   "metadata": {},
   "outputs": [
    {
     "name": "stdout",
     "output_type": "stream",
     "text": [
      "Epoch: 0, loss: 304.313, training accuracy: 3.91%\n",
      "Epoch: 50, loss: 235.814, training accuracy: 64.06%\n",
      "Epoch: 100, loss: 213.974, training accuracy: 81.25%\n",
      "Epoch: 150, loss: 202.834, training accuracy: 88.28%\n",
      "Epoch: 200, loss: 198.626, training accuracy: 91.41%\n",
      "Epoch: 250, loss: 196.377, training accuracy: 92.97%\n",
      "Epoch: 300, loss: 195.158, training accuracy: 93.75%\n",
      "Epoch: 350, loss: 199.917, training accuracy: 89.84%\n",
      "Epoch: 400, loss: 200.894, training accuracy: 89.06%\n",
      "Epoch: 450, loss: 201.920, training accuracy: 88.28%\n",
      "Epoch: 500, loss: 202.588, training accuracy: 87.50%\n",
      "Epoch: 550, loss: 200.718, training accuracy: 89.06%\n",
      "Validation accuracy = 96.296%\n"
     ]
    }
   ],
   "source": [
    "epochs=600\n",
    "with tf.Session() as sess:\n",
    "    # Initialzed the variables\n",
    "    init=tf.global_variables_initializer()\n",
    "    sess.run(init)\n",
    "    # Initialize the dataset iterator with training data\n",
    "    sess.run(iterator.initializer,feed_dict={x_pl:x_train,y_pl:y_train,batch_size:128})\n",
    "    # Train the model\n",
    "    for i in range(epochs):\n",
    "        _,l,acc=sess.run([optimizer,loss,accuracy])\n",
    "        if i%50==0:\n",
    "            print(\"Epoch: {}, loss: {:.3f}, training accuracy: {:.2f}%\".format(i, l, acc * 100))\n",
    "    # The model run is completed.\n",
    "    # Now we switch to test data fed to the iterator\n",
    "    sess.run(iterator.initializer,feed_dict={x_pl:x_test,y_pl:y_test,batch_size:x_test.shape[0]})\n",
    "    # Get test accuracy and predictions\n",
    "    valid_acc=sess.run([accuracy])\n",
    "    logits_valid=sess.run([logits])\n",
    "    predict=np.argmax(logits_valid[0],axis=1)\n",
    "    print(\"Validation accuracy = {:.3f}%\".format(valid_acc[0]*100))"
   ]
  },
  {
   "cell_type": "code",
   "execution_count": 15,
   "metadata": {},
   "outputs": [
    {
     "data": {
      "image/png": "[encoded data removed]",
      "text/plain": [
       "<Figure size 720x324 with 3 Axes>"
      ]
     },
     "metadata": {
      "needs_background": "light"
     },
     "output_type": "display_data"
    }
   ],
   "source": [
    "plot_data(x_test,y_test,predict)"
   ]
  }
 ],
 "metadata": {
  "kernelspec": {
   "display_name": "Python 3",
   "language": "python",
   "name": "python3"
  },
  "language_info": {
   "codemirror_mode": {
    "name": "ipython",
    "version": 3
   },
   "file_extension": ".py",
   "mimetype": "text/x-python",
   "name": "python",
   "nbconvert_exporter": "python",
   "pygments_lexer": "ipython3",
   "version": "3.6.8"
  }
 },
 "nbformat": 4,
 "nbformat_minor": 2
}
